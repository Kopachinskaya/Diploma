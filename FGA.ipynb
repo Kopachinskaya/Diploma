{
  "nbformat": 4,
  "nbformat_minor": 0,
  "metadata": {
    "colab": {
      "provenance": []
    },
    "kernelspec": {
      "name": "python3",
      "display_name": "Python 3"
    },
    "language_info": {
      "name": "python"
    }
  },
  "cells": [
    {
      "cell_type": "code",
      "execution_count": 1,
      "metadata": {
        "colab": {
          "base_uri": "https://localhost:8080/"
        },
        "id": "D9oQjh0HBfmr",
        "outputId": "b7e83513-fa3f-4e0b-ae5a-2b006c756831"
      },
      "outputs": [
        {
          "output_type": "stream",
          "name": "stdout",
          "text": [
            "Cloning into 'FGA'...\n",
            "remote: Enumerating objects: 129, done.\u001b[K\n",
            "remote: Counting objects: 100% (129/129), done.\u001b[K\n",
            "remote: Compressing objects: 100% (121/121), done.\u001b[K\n",
            "remote: Total 129 (delta 8), reused 124 (delta 6), pack-reused 0\u001b[K\n",
            "Receiving objects: 100% (129/129), 2.05 MiB | 6.91 MiB/s, done.\n",
            "Resolving deltas: 100% (8/8), done.\n"
          ]
        }
      ],
      "source": [
        "!git clone https://github.com/SuvodipDey/FGA"
      ]
    },
    {
      "cell_type": "code",
      "source": [
        "%cd /content/FGA"
      ],
      "metadata": {
        "colab": {
          "base_uri": "https://localhost:8080/"
        },
        "id": "KqCiYn7DCVys",
        "outputId": "1088054f-1a44-4e04-af04-41a930c32d5b"
      },
      "execution_count": 2,
      "outputs": [
        {
          "output_type": "stream",
          "name": "stdout",
          "text": [
            "/content/FGA\n"
          ]
        }
      ]
    },
    {
      "cell_type": "code",
      "source": [
        "!git clone https://github.com/Tszsty/multiwoz"
      ],
      "metadata": {
        "colab": {
          "base_uri": "https://localhost:8080/"
        },
        "id": "6m405wh5Dh3G",
        "outputId": "34c0124a-7b67-4593-b778-1de4c2847209"
      },
      "execution_count": 3,
      "outputs": [
        {
          "output_type": "stream",
          "name": "stdout",
          "text": [
            "Cloning into 'multiwoz'...\n",
            "remote: Enumerating objects: 637, done.\u001b[K\n",
            "remote: Total 637 (delta 0), reused 0 (delta 0), pack-reused 637\u001b[K\n",
            "Receiving objects: 100% (637/637), 122.65 MiB | 30.39 MiB/s, done.\n",
            "Resolving deltas: 100% (385/385), done.\n",
            "Updating files: 100% (61/61), done.\n"
          ]
        }
      ]
    },
    {
      "cell_type": "code",
      "source": [
        "!unzip /content/FGA/multiwoz/data/MultiWOZ_2.1.zip"
      ],
      "metadata": {
        "id": "bHv07QuhDSgY"
      },
      "execution_count": null,
      "outputs": []
    },
    {
      "cell_type": "code",
      "source": [
        "!python /content/FGA/compute_accuracy_trade_somdst.py"
      ],
      "metadata": {
        "id": "ArGorKmSEI0c",
        "colab": {
          "base_uri": "https://localhost:8080/"
        },
        "outputId": "bb1d0652-7a73-42f6-d795-b22cef0e9b92"
      },
      "execution_count": 5,
      "outputs": [
        {
          "output_type": "stream",
          "name": "stdout",
          "text": [
            "----------------------------------------\n",
            "Trade :-\n",
            "Total: 7368, Exact Match: 3600, Turn Match: 5287\n",
            "Joint Acc = 48.86, Slot Acc = 96.96, Avg. Goal Acc = 88.79\n",
            "FGA with L=0.25 : 56.58\n",
            "FGA with L=0.5 : 61.19\n",
            "FGA with L=0.75 : 64.16\n",
            "FGA with L=1.0 : 66.18\n",
            "----------------------------------------\n",
            "SOM-DST :-\n",
            "Total: 7368, Exact Match: 3912, Turn Match: 6084\n",
            "Joint Acc = 53.09, Slot Acc = 97.36, Avg. Goal Acc = 91.71\n",
            "FGA with L=0.25 : 64.94\n",
            "FGA with L=0.5 : 71.04\n",
            "FGA with L=0.75 : 74.61\n",
            "FGA with L=1.0 : 76.88\n",
            "----------------------------------------\n"
          ]
        }
      ]
    },
    {
      "cell_type": "code",
      "source": [
        "!python /content/FGA/compute_accuracy_trippy.py"
      ],
      "metadata": {
        "colab": {
          "base_uri": "https://localhost:8080/"
        },
        "id": "EaMO-wUPpHut",
        "outputId": "10f5de41-1a98-4a4e-b46d-980df6a6be98"
      },
      "execution_count": 10,
      "outputs": [
        {
          "output_type": "stream",
          "name": "stdout",
          "text": [
            "----------------------------------------\n",
            "Total: 7368, Exact Match: 3926, Turn Match: 5875\n",
            "Joint Acc = 53.28, Slot Acc = 97.3, Avg. Goal Acc = 90.75\n",
            "FGA L=0.25 : 63.24\n",
            "FGA L=0.5 : 68.67\n",
            "FGA L=0.75 : 71.97\n",
            "FGA L=1.0 : 74.13\n",
            "----------------------------------------\n"
          ]
        }
      ]
    },
    {
      "cell_type": "code",
      "source": [
        "!python /content/FGA/compute_accuracy_dst.py"
      ],
      "metadata": {
        "id": "wp5MsSa6EPdZ",
        "colab": {
          "base_uri": "https://localhost:8080/"
        },
        "outputId": "70dd987e-4684-4bf6-a143-8b1ea177efef"
      },
      "execution_count": 12,
      "outputs": [
        {
          "output_type": "stream",
          "name": "stdout",
          "text": [
            "----------------------------------------\n",
            "Total: 7368, Exact Match: 3622, Turn Match: 5903\n",
            "Joint Acc = 49.16, Slot Acc = 96.7, Avg. Goal Acc = 90.74\n",
            "FGA L=0.25 : 61.31\n",
            "FGA L=0.5 : 67.69\n",
            "FGA L=0.75 : 71.47\n",
            "FGA L=1.0 : 73.91\n",
            "----------------------------------------\n"
          ]
        }
      ]
    }
  ]
}